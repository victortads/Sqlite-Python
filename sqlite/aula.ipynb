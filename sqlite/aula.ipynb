{
 "cells": [
  {
   "cell_type": "code",
   "execution_count": 1,
   "metadata": {},
   "outputs": [],
   "source": [
    "import sqlite3 as db"
   ]
  },
  {
   "cell_type": "code",
   "execution_count": 13,
   "metadata": {},
   "outputs": [],
   "source": [
    "conn = db.connect(\"meu_banco.db\")\n",
    "cursor = conn.cursor()"
   ]
  },
  {
   "cell_type": "code",
   "execution_count": 14,
   "metadata": {
    "vscode": {
     "languageId": "sql"
    }
   },
   "outputs": [
    {
     "data": {
      "text/plain": [
       "<sqlite3.Cursor at 0x7f8b480b2140>"
      ]
     },
     "execution_count": 14,
     "metadata": {},
     "output_type": "execute_result"
    }
   ],
   "source": [
    "cursor.execute(\"create table administrador (\"\n",
    "\"ID_Diretor int NOT NULL,\"\n",
    "\"Nome_Diretor varchar(10) NOT NULL,\"\n",
    "\"Sobrenome_Diretor varchar(30) NOT NULL,\"\n",
    "\"CPF_Diretor char(11) NOT NULL,\"\n",
    "\"Nascimento_Diretor date,\"\n",
    "\"primary key (ID_Diretor)\"\n",
    "\")\")\n",
    "\n",
    "cursor.execute(\"create table estudante (\"\n",
    "\"ID_Aluno int NOT NULL,\"\n",
    "\"Nome_Aluno varchar(10) NOT NULL,\"\n",
    "\"Sobrenome_Aluno varchar(30) NOT NULL,\"\n",
    "\"CPF_Aluno char(11) NOT NULL,\"\n",
    "\"Nascimento_Aluno date,\"\n",
    "\"primary key (ID_Aluno)\"\n",
    "\")\")\n",
    "\n",
    "cursor.execute(\"create table turma (\"\n",
    "\"ID_Turma int NOT NULL,\"\n",
    "\"Nome_Turma varchar(10) NOT NULL,\"\n",
    "\"Aluno int NOT NULL,\"\n",
    "\"primary key (ID_Turma)\"\n",
    "\")\")"
   ]
  },
  {
   "cell_type": "code",
   "execution_count": 16,
   "metadata": {},
   "outputs": [
    {
     "data": {
      "text/plain": [
       "<sqlite3.Cursor at 0x7f8b480b2140>"
      ]
     },
     "execution_count": 16,
     "metadata": {},
     "output_type": "execute_result"
    }
   ],
   "source": [
    "cursor.execute(\"insert into administrador\"\n",
    "\"(ID_Diretor, Nome_Diretor, Sobrenome_Diretor, CPF_Diretor, Nascimento_Diretor)\"\n",
    "\"values\"\n",
    "\"(1, 'Renata', 'Silva', '13424234542', '1978-12-15'),\"\n",
    "\"(2, 'Fernando', 'Oliveira', '05987541201', '1990-06-25'),\"\n",
    "\"(3, 'Amanda', 'Pereira', '08456874563', '1982-09-03'),\"\n",
    "\"(4, 'Ricardo', 'Santos', '19785678901', '1987-04-18'),\"\n",
    "\"(5, 'Patrícia', 'Rodrigues', '12345098765', '1989-07-12'),\"\n",
    "\"(6, 'Diego', 'Ferreira', '03214568902', '1984-03-27'),\"\n",
    "\"(7, 'Cristina', 'Costa', '25413654877', '1975-10-30'),\"\n",
    "\"(8, 'Alexandre', 'Almeida', '09876123456', '1988-02-05'),\"\n",
    "\"(9, 'Isabella', 'Ribeiro', '04215786543', '1992-11-08'),\"\n",
    "\"(10, 'Leandro', 'Martins', '15789456789', '1981-08-22');\")\n",
    "\n",
    "cursor.execute(\"insert into estudante\"\n",
    "\"(ID_Aluno, Nome_Aluno, Sobrenome_Aluno, CPF_Aluno, Nascimento_Aluno)\"\n",
    "\"values\"\n",
    "\"(1, 'Laura', 'Fernandes', '9876543210', '2005-09-15'),\"\n",
    "\"(2, 'Pedro', 'Silva', '1234567890', '2006-06-02'),\"\n",
    "\"(3, 'Isabela', 'Pereira', '4567890123', '2009-11-20'),\"\n",
    "\"(4, 'Lucas', 'Rodrigues', '5678901234', '2003-04-10'),\"\n",
    "\"(5, 'Gabriela', 'Santos', '2345678901', '2007-07-30'),\"\n",
    "\"(6, 'Rafael', 'Costa', '8901234567', '2004-02-14'),\"\n",
    "\"(7, 'Lara', 'Martins', '3456789012', '2010-03-25'),\"\n",
    "\"(8, 'Gustavo', 'Oliveira', '6789012345', '2008-08-18'),\"\n",
    "\"(9, 'Sophia', 'Almeida', '9012345678', '2002-12-05'),\"\n",
    "\"(10, 'Enzo', 'Ribeiro', '5678901234', '2006-10-12');\")"
   ]
  },
  {
   "cell_type": "code",
   "execution_count": 17,
   "metadata": {},
   "outputs": [],
   "source": [
    "conn.commit()"
   ]
  },
  {
   "cell_type": "code",
   "execution_count": 18,
   "metadata": {},
   "outputs": [],
   "source": [
    "import pandas as pd"
   ]
  },
  {
   "cell_type": "code",
   "execution_count": 22,
   "metadata": {},
   "outputs": [],
   "source": [
    "estudante = pd.read_sql_query(\"Select * from estudante\", conn)"
   ]
  },
  {
   "cell_type": "code",
   "execution_count": 23,
   "metadata": {},
   "outputs": [
    {
     "data": {
      "text/html": [
       "<div>\n",
       "<style scoped>\n",
       "    .dataframe tbody tr th:only-of-type {\n",
       "        vertical-align: middle;\n",
       "    }\n",
       "\n",
       "    .dataframe tbody tr th {\n",
       "        vertical-align: top;\n",
       "    }\n",
       "\n",
       "    .dataframe thead th {\n",
       "        text-align: right;\n",
       "    }\n",
       "</style>\n",
       "<table border=\"1\" class=\"dataframe\">\n",
       "  <thead>\n",
       "    <tr style=\"text-align: right;\">\n",
       "      <th></th>\n",
       "      <th>ID_Aluno</th>\n",
       "      <th>Nome_Aluno</th>\n",
       "      <th>Sobrenome_Aluno</th>\n",
       "      <th>CPF_Aluno</th>\n",
       "      <th>Nascimento_Aluno</th>\n",
       "    </tr>\n",
       "  </thead>\n",
       "  <tbody>\n",
       "    <tr>\n",
       "      <th>0</th>\n",
       "      <td>1</td>\n",
       "      <td>Laura</td>\n",
       "      <td>Fernandes</td>\n",
       "      <td>9876543210</td>\n",
       "      <td>2005-09-15</td>\n",
       "    </tr>\n",
       "    <tr>\n",
       "      <th>1</th>\n",
       "      <td>2</td>\n",
       "      <td>Pedro</td>\n",
       "      <td>Silva</td>\n",
       "      <td>1234567890</td>\n",
       "      <td>2006-06-02</td>\n",
       "    </tr>\n",
       "    <tr>\n",
       "      <th>2</th>\n",
       "      <td>3</td>\n",
       "      <td>Isabela</td>\n",
       "      <td>Pereira</td>\n",
       "      <td>4567890123</td>\n",
       "      <td>2009-11-20</td>\n",
       "    </tr>\n",
       "    <tr>\n",
       "      <th>3</th>\n",
       "      <td>4</td>\n",
       "      <td>Lucas</td>\n",
       "      <td>Rodrigues</td>\n",
       "      <td>5678901234</td>\n",
       "      <td>2003-04-10</td>\n",
       "    </tr>\n",
       "    <tr>\n",
       "      <th>4</th>\n",
       "      <td>5</td>\n",
       "      <td>Gabriela</td>\n",
       "      <td>Santos</td>\n",
       "      <td>2345678901</td>\n",
       "      <td>2007-07-30</td>\n",
       "    </tr>\n",
       "    <tr>\n",
       "      <th>5</th>\n",
       "      <td>6</td>\n",
       "      <td>Rafael</td>\n",
       "      <td>Costa</td>\n",
       "      <td>8901234567</td>\n",
       "      <td>2004-02-14</td>\n",
       "    </tr>\n",
       "    <tr>\n",
       "      <th>6</th>\n",
       "      <td>7</td>\n",
       "      <td>Lara</td>\n",
       "      <td>Martins</td>\n",
       "      <td>3456789012</td>\n",
       "      <td>2010-03-25</td>\n",
       "    </tr>\n",
       "    <tr>\n",
       "      <th>7</th>\n",
       "      <td>8</td>\n",
       "      <td>Gustavo</td>\n",
       "      <td>Oliveira</td>\n",
       "      <td>6789012345</td>\n",
       "      <td>2008-08-18</td>\n",
       "    </tr>\n",
       "    <tr>\n",
       "      <th>8</th>\n",
       "      <td>9</td>\n",
       "      <td>Sophia</td>\n",
       "      <td>Almeida</td>\n",
       "      <td>9012345678</td>\n",
       "      <td>2002-12-05</td>\n",
       "    </tr>\n",
       "    <tr>\n",
       "      <th>9</th>\n",
       "      <td>10</td>\n",
       "      <td>Enzo</td>\n",
       "      <td>Ribeiro</td>\n",
       "      <td>5678901234</td>\n",
       "      <td>2006-10-12</td>\n",
       "    </tr>\n",
       "  </tbody>\n",
       "</table>\n",
       "</div>"
      ],
      "text/plain": [
       "   ID_Aluno Nome_Aluno Sobrenome_Aluno   CPF_Aluno Nascimento_Aluno\n",
       "0         1      Laura       Fernandes  9876543210       2005-09-15\n",
       "1         2      Pedro           Silva  1234567890       2006-06-02\n",
       "2         3    Isabela         Pereira  4567890123       2009-11-20\n",
       "3         4      Lucas       Rodrigues  5678901234       2003-04-10\n",
       "4         5   Gabriela          Santos  2345678901       2007-07-30\n",
       "5         6     Rafael           Costa  8901234567       2004-02-14\n",
       "6         7       Lara         Martins  3456789012       2010-03-25\n",
       "7         8    Gustavo        Oliveira  6789012345       2008-08-18\n",
       "8         9     Sophia         Almeida  9012345678       2002-12-05\n",
       "9        10       Enzo         Ribeiro  5678901234       2006-10-12"
      ]
     },
     "execution_count": 23,
     "metadata": {},
     "output_type": "execute_result"
    }
   ],
   "source": [
    "estudante"
   ]
  },
  {
   "cell_type": "code",
   "execution_count": 16,
   "metadata": {},
   "outputs": [
    {
     "data": {
      "text/plain": [
       "<sqlite3.Cursor at 0x7f6ad56fed40>"
      ]
     },
     "execution_count": 16,
     "metadata": {},
     "output_type": "execute_result"
    }
   ],
   "source": [
    "query = \"\"\"\n",
    "    SELECT estudante.Nome_Aluno, Diretor.Nome_diretor\n",
    "    FROM estudante\n",
    "    JOIN estudante ON estuante.diretor = Diretor.ID_Diretor\n",
    "    \"\"\"\n",
    "cursor.execute(query)"
   ]
  },
  {
   "cell_type": "code",
   "execution_count": 24,
   "metadata": {},
   "outputs": [
    {
     "data": {
      "text/plain": [
       "[]"
      ]
     },
     "execution_count": 24,
     "metadata": {},
     "output_type": "execute_result"
    }
   ],
   "source": [
    "result = cursor.fetchall()\n",
    "result"
   ]
  },
  {
   "cell_type": "code",
   "execution_count": 20,
   "metadata": {},
   "outputs": [
    {
     "data": {
      "text/html": [
       "<div>\n",
       "<style scoped>\n",
       "    .dataframe tbody tr th:only-of-type {\n",
       "        vertical-align: middle;\n",
       "    }\n",
       "\n",
       "    .dataframe tbody tr th {\n",
       "        vertical-align: top;\n",
       "    }\n",
       "\n",
       "    .dataframe thead th {\n",
       "        text-align: right;\n",
       "    }\n",
       "</style>\n",
       "<table border=\"1\" class=\"dataframe\">\n",
       "  <thead>\n",
       "    <tr style=\"text-align: right;\">\n",
       "      <th></th>\n",
       "      <th>employee</th>\n",
       "      <th>department</th>\n",
       "    </tr>\n",
       "  </thead>\n",
       "  <tbody>\n",
       "    <tr>\n",
       "      <th>0</th>\n",
       "      <td>John Doe</td>\n",
       "      <td>Sales</td>\n",
       "    </tr>\n",
       "    <tr>\n",
       "      <th>1</th>\n",
       "      <td>Jane Smith</td>\n",
       "      <td>Marketing</td>\n",
       "    </tr>\n",
       "    <tr>\n",
       "      <th>2</th>\n",
       "      <td>Robert Johnson</td>\n",
       "      <td>Marketing</td>\n",
       "    </tr>\n",
       "  </tbody>\n",
       "</table>\n",
       "</div>"
      ],
      "text/plain": [
       "         employee department\n",
       "0        John Doe      Sales\n",
       "1      Jane Smith  Marketing\n",
       "2  Robert Johnson  Marketing"
      ]
     },
     "execution_count": 20,
     "metadata": {},
     "output_type": "execute_result"
    }
   ],
   "source": [
    "pd.read_sql_query(\"\"\"\n",
    "    SELECT employees.name as employee, departments.name as department\n",
    "    FROM employees\n",
    "    INNER JOIN departments ON employees.department_id = departments.id\n",
    "    \"\"\", conn)"
   ]
  },
  {
   "cell_type": "code",
   "execution_count": 21,
   "metadata": {},
   "outputs": [
    {
     "data": {
      "text/html": [
       "<div>\n",
       "<style scoped>\n",
       "    .dataframe tbody tr th:only-of-type {\n",
       "        vertical-align: middle;\n",
       "    }\n",
       "\n",
       "    .dataframe tbody tr th {\n",
       "        vertical-align: top;\n",
       "    }\n",
       "\n",
       "    .dataframe thead th {\n",
       "        text-align: right;\n",
       "    }\n",
       "</style>\n",
       "<table border=\"1\" class=\"dataframe\">\n",
       "  <thead>\n",
       "    <tr style=\"text-align: right;\">\n",
       "      <th></th>\n",
       "      <th>employee</th>\n",
       "      <th>department</th>\n",
       "    </tr>\n",
       "  </thead>\n",
       "  <tbody>\n",
       "    <tr>\n",
       "      <th>0</th>\n",
       "      <td>John Doe</td>\n",
       "      <td>Sales</td>\n",
       "    </tr>\n",
       "    <tr>\n",
       "      <th>1</th>\n",
       "      <td>Jane Smith</td>\n",
       "      <td>Marketing</td>\n",
       "    </tr>\n",
       "    <tr>\n",
       "      <th>2</th>\n",
       "      <td>Robert Johnson</td>\n",
       "      <td>Marketing</td>\n",
       "    </tr>\n",
       "  </tbody>\n",
       "</table>\n",
       "</div>"
      ],
      "text/plain": [
       "         employee department\n",
       "0        John Doe      Sales\n",
       "1      Jane Smith  Marketing\n",
       "2  Robert Johnson  Marketing"
      ]
     },
     "execution_count": 21,
     "metadata": {},
     "output_type": "execute_result"
    }
   ],
   "source": [
    "pd.read_sql_query(\"\"\"\n",
    "    SELECT employees.name as employee, departments.name as department\n",
    "    FROM employees\n",
    "    INNER JOIN departments ON employees.department_id = departments.id\n",
    "    \"\"\", conn)"
   ]
  }
 ],
 "metadata": {
  "kernelspec": {
   "display_name": "Python 3",
   "language": "python",
   "name": "python3"
  },
  "language_info": {
   "codemirror_mode": {
    "name": "ipython",
    "version": 3
   },
   "file_extension": ".py",
   "mimetype": "text/x-python",
   "name": "python",
   "nbconvert_exporter": "python",
   "pygments_lexer": "ipython3",
   "version": "3.10.4"
  },
  "orig_nbformat": 4
 },
 "nbformat": 4,
 "nbformat_minor": 2
}
